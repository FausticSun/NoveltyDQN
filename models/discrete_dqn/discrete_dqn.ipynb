{
  "nbformat": 4,
  "nbformat_minor": 0,
  "metadata": {
    "colab": {
      "name": "discrete_dqn.ipynb",
      "version": "0.3.2",
      "provenance": [],
      "collapsed_sections": [],
      "toc_visible": true
    },
    "kernelspec": {
      "name": "python3",
      "display_name": "Python 3"
    },
    "accelerator": "GPU"
  },
  "cells": [
    {
      "metadata": {
        "id": "klsFNbTF8j62",
        "colab_type": "text"
      },
      "cell_type": "markdown",
      "source": [
        "# Install Dependencies"
      ]
    },
    {
      "metadata": {
        "id": "878QD18d7JDC",
        "colab_type": "code",
        "outputId": "ea14447f-cf00-470f-eb7a-8fb883e789d1",
        "colab": {
          "base_uri": "https://localhost:8080/",
          "height": 4555
        }
      },
      "cell_type": "code",
      "source": [
        "\n",
        "!apt install swig cmake libopenmpi-dev zlib1g-dev\n",
        "!pip install gym\n",
        "!pip install box2d_py\n"
      ],
      "execution_count": 1,
      "outputs": [
        {
          "output_type": "stream",
          "text": [
            "Reading package lists... Done\n",
            "Building dependency tree       \n",
            "Reading state information... Done\n",
            "zlib1g-dev is already the newest version (1:1.2.11.dfsg-0ubuntu2).\n",
            "zlib1g-dev set to manually installed.\n",
            "The following additional packages will be installed:\n",
            "  autotools-dev cmake-data file ibverbs-providers libarchive13 libfabric1\n",
            "  libhwloc-dev libhwloc-plugins libhwloc5 libibverbs-dev libibverbs1\n",
            "  libjsoncpp1 libltdl-dev libltdl7 liblzo2-2 libmagic-mgc libmagic1\n",
            "  libnl-3-200 libnl-route-3-200 libnuma-dev libnuma1 libopenmpi2 libpciaccess0\n",
            "  libpsm-infinipath1 librdmacm1 librhash0 libtool libuv1 ocl-icd-libopencl1\n",
            "  openmpi-bin openmpi-common swig3.0\n",
            "Suggested packages:\n",
            "  cmake-doc ninja-build lrzip libhwloc-contrib-plugins libtool-doc openmpi-doc\n",
            "  pciutils autoconf automaken gcj-jdk swig-doc swig-examples swig3.0-examples\n",
            "  swig3.0-doc\n",
            "The following NEW packages will be installed:\n",
            "  autotools-dev cmake cmake-data file ibverbs-providers libarchive13\n",
            "  libfabric1 libhwloc-dev libhwloc-plugins libhwloc5 libibverbs-dev\n",
            "  libibverbs1 libjsoncpp1 libltdl-dev libltdl7 liblzo2-2 libmagic-mgc\n",
            "  libmagic1 libnl-3-200 libnl-route-3-200 libnuma-dev libnuma1 libopenmpi-dev\n",
            "  libopenmpi2 libpciaccess0 libpsm-infinipath1 librdmacm1 librhash0 libtool\n",
            "  libuv1 ocl-icd-libopencl1 openmpi-bin openmpi-common swig swig3.0\n",
            "0 upgraded, 35 newly installed, 0 to remove and 5 not upgraded.\n",
            "Need to get 11.5 MB of archives.\n",
            "After this operation, 58.0 MB of additional disk space will be used.\n",
            "Get:1 http://archive.ubuntu.com/ubuntu bionic/main amd64 liblzo2-2 amd64 2.08-1.2 [48.7 kB]\n",
            "Get:2 http://archive.ubuntu.com/ubuntu bionic-updates/main amd64 libmagic-mgc amd64 1:5.32-2ubuntu0.1 [184 kB]\n",
            "Get:3 http://archive.ubuntu.com/ubuntu bionic-updates/main amd64 libmagic1 amd64 1:5.32-2ubuntu0.1 [68.4 kB]\n",
            "Get:4 http://archive.ubuntu.com/ubuntu bionic-updates/main amd64 file amd64 1:5.32-2ubuntu0.1 [22.1 kB]\n",
            "Get:5 http://archive.ubuntu.com/ubuntu bionic/main amd64 libnuma1 amd64 2.0.11-2.1 [21.6 kB]\n",
            "Get:6 http://archive.ubuntu.com/ubuntu bionic/main amd64 autotools-dev all 20180224.1 [39.6 kB]\n",
            "Get:7 http://archive.ubuntu.com/ubuntu bionic/main amd64 cmake-data all 3.10.2-1ubuntu2 [1,331 kB]\n",
            "Get:8 http://archive.ubuntu.com/ubuntu bionic-updates/main amd64 libarchive13 amd64 3.2.2-3.1ubuntu0.1 [289 kB]\n",
            "Get:9 http://archive.ubuntu.com/ubuntu bionic/main amd64 libjsoncpp1 amd64 1.7.4-3 [73.6 kB]\n",
            "Get:10 http://archive.ubuntu.com/ubuntu bionic/main amd64 librhash0 amd64 1.3.6-2 [78.1 kB]\n",
            "Get:11 http://archive.ubuntu.com/ubuntu bionic/main amd64 libuv1 amd64 1.18.0-3 [64.4 kB]\n",
            "Get:12 http://archive.ubuntu.com/ubuntu bionic/main amd64 cmake amd64 3.10.2-1ubuntu2 [3,138 kB]\n",
            "Get:13 http://archive.ubuntu.com/ubuntu bionic/main amd64 libnl-3-200 amd64 3.2.29-0ubuntu3 [52.8 kB]\n",
            "Get:14 http://archive.ubuntu.com/ubuntu bionic/main amd64 libnl-route-3-200 amd64 3.2.29-0ubuntu3 [146 kB]\n",
            "Get:15 http://archive.ubuntu.com/ubuntu bionic/main amd64 libibverbs1 amd64 17.1-1 [44.4 kB]\n",
            "Get:16 http://archive.ubuntu.com/ubuntu bionic/main amd64 ibverbs-providers amd64 17.1-1 [160 kB]\n",
            "Get:17 http://archive.ubuntu.com/ubuntu bionic/universe amd64 libpsm-infinipath1 amd64 3.3+20.604758e7-5 [174 kB]\n",
            "Get:18 http://archive.ubuntu.com/ubuntu bionic/main amd64 librdmacm1 amd64 17.1-1 [56.1 kB]\n",
            "Get:19 http://archive.ubuntu.com/ubuntu bionic/universe amd64 libfabric1 amd64 1.5.3-1 [302 kB]\n",
            "Get:20 http://archive.ubuntu.com/ubuntu bionic/main amd64 libltdl7 amd64 2.4.6-2 [38.8 kB]\n",
            "Get:21 http://archive.ubuntu.com/ubuntu bionic/main amd64 libltdl-dev amd64 2.4.6-2 [162 kB]\n",
            "Get:22 http://archive.ubuntu.com/ubuntu bionic/main amd64 libpciaccess0 amd64 0.14-1 [17.9 kB]\n",
            "Get:23 http://archive.ubuntu.com/ubuntu bionic/main amd64 libtool all 2.4.6-2 [194 kB]\n",
            "Get:24 http://archive.ubuntu.com/ubuntu bionic/universe amd64 libhwloc5 amd64 1.11.9-1 [105 kB]\n",
            "Get:25 http://archive.ubuntu.com/ubuntu bionic/main amd64 ocl-icd-libopencl1 amd64 2.2.11-1ubuntu1 [30.3 kB]\n",
            "Get:26 http://archive.ubuntu.com/ubuntu bionic/universe amd64 libhwloc-plugins amd64 1.11.9-1 [12.5 kB]\n",
            "Get:27 http://archive.ubuntu.com/ubuntu bionic/universe amd64 libopenmpi2 amd64 2.1.1-8 [2,056 kB]\n",
            "Get:28 http://archive.ubuntu.com/ubuntu bionic/universe amd64 openmpi-common all 2.1.1-8 [140 kB]\n",
            "Get:29 http://archive.ubuntu.com/ubuntu bionic/universe amd64 openmpi-bin amd64 2.1.1-8 [88.2 kB]\n",
            "Get:30 http://archive.ubuntu.com/ubuntu bionic/universe amd64 swig3.0 amd64 3.0.12-1 [1,094 kB]\n",
            "Get:31 http://archive.ubuntu.com/ubuntu bionic/universe amd64 swig amd64 3.0.12-1 [6,460 B]\n",
            "Get:32 http://archive.ubuntu.com/ubuntu bionic/main amd64 libnuma-dev amd64 2.0.11-2.1 [32.2 kB]\n",
            "Get:33 http://archive.ubuntu.com/ubuntu bionic/universe amd64 libhwloc-dev amd64 1.11.9-1 [167 kB]\n",
            "Get:34 http://archive.ubuntu.com/ubuntu bionic/main amd64 libibverbs-dev amd64 17.1-1 [103 kB]\n",
            "Get:35 http://archive.ubuntu.com/ubuntu bionic/universe amd64 libopenmpi-dev amd64 2.1.1-8 [925 kB]\n",
            "Fetched 11.5 MB in 2s (5,833 kB/s)\n",
            "Extracting templates from packages: 100%\n",
            "Selecting previously unselected package liblzo2-2:amd64.\n",
            "(Reading database ... 22280 files and directories currently installed.)\n",
            "Preparing to unpack .../00-liblzo2-2_2.08-1.2_amd64.deb ...\n",
            "Unpacking liblzo2-2:amd64 (2.08-1.2) ...\n",
            "Selecting previously unselected package libmagic-mgc.\n",
            "Preparing to unpack .../01-libmagic-mgc_1%3a5.32-2ubuntu0.1_amd64.deb ...\n",
            "Unpacking libmagic-mgc (1:5.32-2ubuntu0.1) ...\n",
            "Selecting previously unselected package libmagic1:amd64.\n",
            "Preparing to unpack .../02-libmagic1_1%3a5.32-2ubuntu0.1_amd64.deb ...\n",
            "Unpacking libmagic1:amd64 (1:5.32-2ubuntu0.1) ...\n",
            "Selecting previously unselected package file.\n",
            "Preparing to unpack .../03-file_1%3a5.32-2ubuntu0.1_amd64.deb ...\n",
            "Unpacking file (1:5.32-2ubuntu0.1) ...\n",
            "Selecting previously unselected package libnuma1:amd64.\n",
            "Preparing to unpack .../04-libnuma1_2.0.11-2.1_amd64.deb ...\n",
            "Unpacking libnuma1:amd64 (2.0.11-2.1) ...\n",
            "Selecting previously unselected package autotools-dev.\n",
            "Preparing to unpack .../05-autotools-dev_20180224.1_all.deb ...\n",
            "Unpacking autotools-dev (20180224.1) ...\n",
            "Selecting previously unselected package cmake-data.\n",
            "Preparing to unpack .../06-cmake-data_3.10.2-1ubuntu2_all.deb ...\n",
            "Unpacking cmake-data (3.10.2-1ubuntu2) ...\n",
            "Selecting previously unselected package libarchive13:amd64.\n",
            "Preparing to unpack .../07-libarchive13_3.2.2-3.1ubuntu0.1_amd64.deb ...\n",
            "Unpacking libarchive13:amd64 (3.2.2-3.1ubuntu0.1) ...\n",
            "Selecting previously unselected package libjsoncpp1:amd64.\n",
            "Preparing to unpack .../08-libjsoncpp1_1.7.4-3_amd64.deb ...\n",
            "Unpacking libjsoncpp1:amd64 (1.7.4-3) ...\n",
            "Selecting previously unselected package librhash0:amd64.\n",
            "Preparing to unpack .../09-librhash0_1.3.6-2_amd64.deb ...\n",
            "Unpacking librhash0:amd64 (1.3.6-2) ...\n",
            "Selecting previously unselected package libuv1:amd64.\n",
            "Preparing to unpack .../10-libuv1_1.18.0-3_amd64.deb ...\n",
            "Unpacking libuv1:amd64 (1.18.0-3) ...\n",
            "Selecting previously unselected package cmake.\n",
            "Preparing to unpack .../11-cmake_3.10.2-1ubuntu2_amd64.deb ...\n",
            "Unpacking cmake (3.10.2-1ubuntu2) ...\n",
            "Selecting previously unselected package libnl-3-200:amd64.\n",
            "Preparing to unpack .../12-libnl-3-200_3.2.29-0ubuntu3_amd64.deb ...\n",
            "Unpacking libnl-3-200:amd64 (3.2.29-0ubuntu3) ...\n",
            "Selecting previously unselected package libnl-route-3-200:amd64.\n",
            "Preparing to unpack .../13-libnl-route-3-200_3.2.29-0ubuntu3_amd64.deb ...\n",
            "Unpacking libnl-route-3-200:amd64 (3.2.29-0ubuntu3) ...\n",
            "Selecting previously unselected package libibverbs1:amd64.\n",
            "Preparing to unpack .../14-libibverbs1_17.1-1_amd64.deb ...\n",
            "Unpacking libibverbs1:amd64 (17.1-1) ...\n",
            "Selecting previously unselected package ibverbs-providers:amd64.\n",
            "Preparing to unpack .../15-ibverbs-providers_17.1-1_amd64.deb ...\n",
            "Unpacking ibverbs-providers:amd64 (17.1-1) ...\n",
            "Selecting previously unselected package libpsm-infinipath1.\n",
            "Preparing to unpack .../16-libpsm-infinipath1_3.3+20.604758e7-5_amd64.deb ...\n",
            "Unpacking libpsm-infinipath1 (3.3+20.604758e7-5) ...\n",
            "Selecting previously unselected package librdmacm1:amd64.\n",
            "Preparing to unpack .../17-librdmacm1_17.1-1_amd64.deb ...\n",
            "Unpacking librdmacm1:amd64 (17.1-1) ...\n",
            "Selecting previously unselected package libfabric1.\n",
            "Preparing to unpack .../18-libfabric1_1.5.3-1_amd64.deb ...\n",
            "Unpacking libfabric1 (1.5.3-1) ...\n",
            "Selecting previously unselected package libltdl7:amd64.\n",
            "Preparing to unpack .../19-libltdl7_2.4.6-2_amd64.deb ...\n",
            "Unpacking libltdl7:amd64 (2.4.6-2) ...\n",
            "Selecting previously unselected package libltdl-dev:amd64.\n",
            "Preparing to unpack .../20-libltdl-dev_2.4.6-2_amd64.deb ...\n",
            "Unpacking libltdl-dev:amd64 (2.4.6-2) ...\n",
            "Selecting previously unselected package libpciaccess0:amd64.\n",
            "Preparing to unpack .../21-libpciaccess0_0.14-1_amd64.deb ...\n",
            "Unpacking libpciaccess0:amd64 (0.14-1) ...\n",
            "Selecting previously unselected package libtool.\n",
            "Preparing to unpack .../22-libtool_2.4.6-2_all.deb ...\n",
            "Unpacking libtool (2.4.6-2) ...\n",
            "Selecting previously unselected package libhwloc5:amd64.\n",
            "Preparing to unpack .../23-libhwloc5_1.11.9-1_amd64.deb ...\n",
            "Unpacking libhwloc5:amd64 (1.11.9-1) ...\n",
            "Selecting previously unselected package ocl-icd-libopencl1:amd64.\n",
            "Preparing to unpack .../24-ocl-icd-libopencl1_2.2.11-1ubuntu1_amd64.deb ...\n",
            "Unpacking ocl-icd-libopencl1:amd64 (2.2.11-1ubuntu1) ...\n",
            "Selecting previously unselected package libhwloc-plugins.\n",
            "Preparing to unpack .../25-libhwloc-plugins_1.11.9-1_amd64.deb ...\n",
            "Unpacking libhwloc-plugins (1.11.9-1) ...\n",
            "Selecting previously unselected package libopenmpi2:amd64.\n",
            "Preparing to unpack .../26-libopenmpi2_2.1.1-8_amd64.deb ...\n",
            "Unpacking libopenmpi2:amd64 (2.1.1-8) ...\n",
            "Selecting previously unselected package openmpi-common.\n",
            "Preparing to unpack .../27-openmpi-common_2.1.1-8_all.deb ...\n",
            "Unpacking openmpi-common (2.1.1-8) ...\n",
            "Selecting previously unselected package openmpi-bin.\n",
            "Preparing to unpack .../28-openmpi-bin_2.1.1-8_amd64.deb ...\n",
            "Unpacking openmpi-bin (2.1.1-8) ...\n",
            "Selecting previously unselected package swig3.0.\n",
            "Preparing to unpack .../29-swig3.0_3.0.12-1_amd64.deb ...\n",
            "Unpacking swig3.0 (3.0.12-1) ...\n",
            "Selecting previously unselected package swig.\n",
            "Preparing to unpack .../30-swig_3.0.12-1_amd64.deb ...\n",
            "Unpacking swig (3.0.12-1) ...\n",
            "Selecting previously unselected package libnuma-dev:amd64.\n",
            "Preparing to unpack .../31-libnuma-dev_2.0.11-2.1_amd64.deb ...\n",
            "Unpacking libnuma-dev:amd64 (2.0.11-2.1) ...\n",
            "Selecting previously unselected package libhwloc-dev:amd64.\n",
            "Preparing to unpack .../32-libhwloc-dev_1.11.9-1_amd64.deb ...\n",
            "Unpacking libhwloc-dev:amd64 (1.11.9-1) ...\n",
            "Selecting previously unselected package libibverbs-dev:amd64.\n",
            "Preparing to unpack .../33-libibverbs-dev_17.1-1_amd64.deb ...\n",
            "Unpacking libibverbs-dev:amd64 (17.1-1) ...\n",
            "Selecting previously unselected package libopenmpi-dev.\n",
            "Preparing to unpack .../34-libopenmpi-dev_2.1.1-8_amd64.deb ...\n",
            "Unpacking libopenmpi-dev (2.1.1-8) ...\n",
            "Setting up swig3.0 (3.0.12-1) ...\n",
            "Setting up libuv1:amd64 (1.18.0-3) ...\n",
            "Setting up libnuma1:amd64 (2.0.11-2.1) ...\n",
            "Setting up cmake-data (3.10.2-1ubuntu2) ...\n",
            "Setting up libmagic-mgc (1:5.32-2ubuntu0.1) ...\n",
            "Setting up libmagic1:amd64 (1:5.32-2ubuntu0.1) ...\n",
            "Setting up librhash0:amd64 (1.3.6-2) ...\n",
            "Setting up libpsm-infinipath1 (3.3+20.604758e7-5) ...\n",
            "update-alternatives: using /usr/lib/libpsm1/libpsm_infinipath.so.1.16 to provide /usr/lib/x86_64-linux-gnu/libpsm_infinipath.so.1 (libpsm_infinipath.so.1) in auto mode\n",
            "Setting up openmpi-common (2.1.1-8) ...\n",
            "Processing triggers for libc-bin (2.27-3ubuntu1) ...\n",
            "Setting up autotools-dev (20180224.1) ...\n",
            "Setting up libltdl7:amd64 (2.4.6-2) ...\n",
            "Setting up libpciaccess0:amd64 (0.14-1) ...\n",
            "Setting up libnuma-dev:amd64 (2.0.11-2.1) ...\n",
            "Setting up ocl-icd-libopencl1:amd64 (2.2.11-1ubuntu1) ...\n",
            "Setting up libnl-3-200:amd64 (3.2.29-0ubuntu3) ...\n",
            "Setting up liblzo2-2:amd64 (2.08-1.2) ...\n",
            "Setting up libjsoncpp1:amd64 (1.7.4-3) ...\n",
            "Setting up swig (3.0.12-1) ...\n",
            "Setting up libltdl-dev:amd64 (2.4.6-2) ...\n",
            "Setting up libarchive13:amd64 (3.2.2-3.1ubuntu0.1) ...\n",
            "Setting up libnl-route-3-200:amd64 (3.2.29-0ubuntu3) ...\n",
            "Setting up file (1:5.32-2ubuntu0.1) ...\n",
            "Setting up libhwloc5:amd64 (1.11.9-1) ...\n",
            "Setting up libhwloc-plugins (1.11.9-1) ...\n",
            "Setting up cmake (3.10.2-1ubuntu2) ...\n",
            "Setting up libtool (2.4.6-2) ...\n",
            "Setting up libibverbs1:amd64 (17.1-1) ...\n",
            "Setting up libhwloc-dev:amd64 (1.11.9-1) ...\n",
            "Setting up librdmacm1:amd64 (17.1-1) ...\n",
            "Setting up ibverbs-providers:amd64 (17.1-1) ...\n",
            "Setting up libibverbs-dev:amd64 (17.1-1) ...\n",
            "Setting up libfabric1 (1.5.3-1) ...\n",
            "Setting up libopenmpi2:amd64 (2.1.1-8) ...\n",
            "Setting up libopenmpi-dev (2.1.1-8) ...\n",
            "update-alternatives: using /usr/lib/x86_64-linux-gnu/openmpi/include to provide /usr/include/mpi (mpi) in auto mode\n",
            "update-alternatives: warning: skip creation of /usr/share/man/man1/mpicc.1.gz because associated file /usr/share/man/man1/mpicc.openmpi.1.gz (of link group mpi) doesn't exist\n",
            "update-alternatives: warning: skip creation of /usr/share/man/man1/mpic++.1.gz because associated file /usr/share/man/man1/mpic++.openmpi.1.gz (of link group mpi) doesn't exist\n",
            "update-alternatives: warning: skip creation of /usr/share/man/man1/mpicxx.1.gz because associated file /usr/share/man/man1/mpicxx.openmpi.1.gz (of link group mpi) doesn't exist\n",
            "update-alternatives: warning: skip creation of /usr/share/man/man1/mpiCC.1.gz because associated file /usr/share/man/man1/mpiCC.openmpi.1.gz (of link group mpi) doesn't exist\n",
            "update-alternatives: warning: skip creation of /usr/share/man/man1/mpif77.1.gz because associated file /usr/share/man/man1/mpif77.openmpi.1.gz (of link group mpi) doesn't exist\n",
            "update-alternatives: warning: skip creation of /usr/share/man/man1/mpif90.1.gz because associated file /usr/share/man/man1/mpif90.openmpi.1.gz (of link group mpi) doesn't exist\n",
            "update-alternatives: warning: skip creation of /usr/share/man/man1/mpifort.1.gz because associated file /usr/share/man/man1/mpifort.openmpi.1.gz (of link group mpi) doesn't exist\n",
            "Setting up openmpi-bin (2.1.1-8) ...\n",
            "update-alternatives: using /usr/bin/mpirun.openmpi to provide /usr/bin/mpirun (mpirun) in auto mode\n",
            "update-alternatives: warning: skip creation of /usr/share/man/man1/mpirun.1.gz because associated file /usr/share/man/man1/mpirun.openmpi.1.gz (of link group mpirun) doesn't exist\n",
            "update-alternatives: warning: skip creation of /usr/share/man/man1/mpiexec.1.gz because associated file /usr/share/man/man1/mpiexec.openmpi.1.gz (of link group mpirun) doesn't exist\n",
            "Processing triggers for libc-bin (2.27-3ubuntu1) ...\n",
            "Collecting gym\n",
            "\u001b[?25l  Downloading https://files.pythonhosted.org/packages/d4/22/4ff09745ade385ffe707fb5f053548f0f6a6e7d5e98a2b9d6c07f5b931a7/gym-0.10.9.tar.gz (1.5MB)\n",
            "\u001b[K    100% |████████████████████████████████| 1.5MB 8.0MB/s \n",
            "\u001b[?25hRequirement already satisfied: scipy in /usr/local/lib/python3.6/dist-packages (from gym) (1.1.0)\n",
            "Requirement already satisfied: numpy>=1.10.4 in /usr/local/lib/python3.6/dist-packages (from gym) (1.14.6)\n",
            "Requirement already satisfied: requests>=2.0 in /usr/local/lib/python3.6/dist-packages (from gym) (2.18.4)\n",
            "Requirement already satisfied: six in /usr/local/lib/python3.6/dist-packages (from gym) (1.11.0)\n",
            "Collecting pyglet>=1.2.0 (from gym)\n",
            "\u001b[?25l  Downloading https://files.pythonhosted.org/packages/1c/fc/dad5eaaab68f0c21e2f906a94ddb98175662cc5a654eee404d59554ce0fa/pyglet-1.3.2-py2.py3-none-any.whl (1.0MB)\n",
            "\u001b[K    100% |████████████████████████████████| 1.0MB 9.9MB/s \n",
            "\u001b[?25hRequirement already satisfied: chardet<3.1.0,>=3.0.2 in /usr/local/lib/python3.6/dist-packages (from requests>=2.0->gym) (3.0.4)\n",
            "Requirement already satisfied: idna<2.7,>=2.5 in /usr/local/lib/python3.6/dist-packages (from requests>=2.0->gym) (2.6)\n",
            "Requirement already satisfied: certifi>=2017.4.17 in /usr/local/lib/python3.6/dist-packages (from requests>=2.0->gym) (2018.10.15)\n",
            "Requirement already satisfied: urllib3<1.23,>=1.21.1 in /usr/local/lib/python3.6/dist-packages (from requests>=2.0->gym) (1.22)\n",
            "Requirement already satisfied: future in /usr/local/lib/python3.6/dist-packages (from pyglet>=1.2.0->gym) (0.16.0)\n",
            "Building wheels for collected packages: gym\n",
            "  Running setup.py bdist_wheel for gym ... \u001b[?25l-\b \b\\\b \b|\b \b/\b \bdone\n",
            "\u001b[?25h  Stored in directory: /root/.cache/pip/wheels/6c/3a/0e/b86dee98876bb56cdb482cc1f72201035e46d1baf69d10d028\n",
            "Successfully built gym\n",
            "Installing collected packages: pyglet, gym\n",
            "Successfully installed gym-0.10.9 pyglet-1.3.2\n",
            "Collecting box2d_py\n",
            "\u001b[?25l  Downloading https://files.pythonhosted.org/packages/b8/71/f7cdeddf91dcc976448678d2e4b84b83ce868281e97b3ccbbfa685d120e0/box2d_py-2.3.6-cp36-cp36m-manylinux1_x86_64.whl (2.1MB)\n",
            "\u001b[K    100% |████████████████████████████████| 2.1MB 8.2MB/s \n",
            "\u001b[?25hInstalling collected packages: box2d-py\n",
            "Successfully installed box2d-py-2.3.6\n"
          ],
          "name": "stdout"
        }
      ]
    },
    {
      "metadata": {
        "id": "jAJVYB0fmsly",
        "colab_type": "text"
      },
      "cell_type": "markdown",
      "source": [
        "# Check if we are allocated a GPU\n",
        "\n"
      ]
    },
    {
      "metadata": {
        "id": "dlFeN7DQDovH",
        "colab_type": "code",
        "outputId": "2ab28607-877f-46cd-ea34-c6c3f5b574ad",
        "colab": {
          "base_uri": "https://localhost:8080/",
          "height": 36
        }
      },
      "cell_type": "code",
      "source": [
        "import tensorflow as tf\n",
        "tf.test.gpu_device_name()"
      ],
      "execution_count": 8,
      "outputs": [
        {
          "output_type": "execute_result",
          "data": {
            "text/plain": [
              "'/device:GPU:0'"
            ]
          },
          "metadata": {
            "tags": []
          },
          "execution_count": 8
        }
      ]
    },
    {
      "metadata": {
        "id": "lN5wW0Y18oMR",
        "colab_type": "text"
      },
      "cell_type": "markdown",
      "source": [
        "# Connect to Google Drive"
      ]
    },
    {
      "metadata": {
        "id": "1W29us8L6-Go",
        "colab_type": "code",
        "outputId": "a8b7ddc7-45e2-4f33-f6f4-9f1c64855295",
        "colab": {
          "base_uri": "https://localhost:8080/",
          "height": 56
        }
      },
      "cell_type": "code",
      "source": [
        "from google.colab import drive\n",
        "drive.mount('/content/gdrive')"
      ],
      "execution_count": 10,
      "outputs": [
        {
          "output_type": "stream",
          "text": [
            "Drive already mounted at /content/gdrive; to attempt to forcibly remount, call drive.mount(\"/content/gdrive\", force_remount=True).\n"
          ],
          "name": "stdout"
        }
      ]
    },
    {
      "metadata": {
        "id": "2AooYTa76TDn",
        "colab_type": "text"
      },
      "cell_type": "markdown",
      "source": [
        "# Discrete DQN\n",
        "\n",
        "In this implementation, the actions of the BipedalWalker are discretized into 81 actions, each action being a permutation of {-1,0,1} for each of the four outputs."
      ]
    },
    {
      "metadata": {
        "id": "UTrPpfVa6TDr",
        "colab_type": "text"
      },
      "cell_type": "markdown",
      "source": [
        "## Import Modules"
      ]
    },
    {
      "metadata": {
        "id": "zIQ2JJ_p6TDv",
        "colab_type": "code",
        "colab": {}
      },
      "cell_type": "code",
      "source": [
        "import keras\n",
        "import gym\n",
        "import os\n",
        "from keras.models import Sequential\n",
        "from keras.layers import Dense \n",
        "from keras.optimizers import Adam\n",
        "import tensorflow as tf\n",
        "\n",
        "import pickle # for saving episodes -> rewards\n",
        "\n",
        "import numpy as np\n",
        "from collections import deque\n",
        "import random"
      ],
      "execution_count": 0,
      "outputs": []
    },
    {
      "metadata": {
        "id": "cWVPsYUt6TD8",
        "colab_type": "text"
      },
      "cell_type": "markdown",
      "source": [
        "## Build the Model"
      ]
    },
    {
      "metadata": {
        "id": "TCOvLXLK6TD-",
        "colab_type": "text"
      },
      "cell_type": "markdown",
      "source": [
        "### Replay Buffer"
      ]
    },
    {
      "metadata": {
        "id": "Nx5ibJ9n6TEA",
        "colab_type": "code",
        "colab": {}
      },
      "cell_type": "code",
      "source": [
        "class ReplayBuffer:\n",
        "    \"\"\"\n",
        "    This class represents the experience replay buffer\n",
        "    \"\"\"\n",
        "    def __init__(self, buffer_size):\n",
        "        self.buffer = deque(maxlen=buffer_size)\n",
        "        self.capacity = buffer_size\n",
        "        self.len = 0\n",
        "    \n",
        "    def sample(self, n_samples):\n",
        "        batch = []\n",
        "        n_samples = min(self.len, n_samples)\n",
        "        batch = random.sample(self.buffer, n_samples)\n",
        "        \n",
        "        curr_states = np.float32([arr[0] for arr in batch])\n",
        "        actions = np.int32([arr[1] for arr in batch])\n",
        "        rewards = np.float32([arr[2] for arr in batch])\n",
        "        next_states = np.float32([arr[3] for arr in batch])\n",
        "        \n",
        "        return np.array(curr_states), np.array(actions), np.array(rewards), np.array(next_states)\n",
        "    \n",
        "    def add(self, curr_state, action, reward, next_state):\n",
        "        self.buffer.append([curr_state, action, reward, next_state])\n",
        "        self.len = self.len + 1\n",
        "        if (self.len > self.capacity):\n",
        "            self.len = self.capacity\n",
        "        \n",
        "        "
      ],
      "execution_count": 0,
      "outputs": []
    },
    {
      "metadata": {
        "id": "qauv6GHB6TEJ",
        "colab_type": "text"
      },
      "cell_type": "markdown",
      "source": [
        "## Q Network"
      ]
    },
    {
      "metadata": {
        "id": "VadZr9_N6TEL",
        "colab_type": "code",
        "colab": {}
      },
      "cell_type": "code",
      "source": [
        "class DQN:\n",
        "    def __init__(self, n_inputs, n_output_dim, learning_rate):\n",
        "        self.learning_rate = learning_rate\n",
        "        self.model = self.get_model(n_inputs, n_output_dim)\n",
        "        \n",
        "    def get_model(self, n_input_dim, n_output_dim):\n",
        "        # Output can be sigmoid since we are computing Q-values and not the regressing \n",
        "        # to the actual value of the action. \n",
        "        model = tf.keras.models.Sequential()\n",
        "        model.add(tf.keras.layers.Dense(32, input_dim=n_input_dim, activation='relu'))\n",
        "        model.add(tf.keras.layers.Dense(64, activation='relu'))        \n",
        "        model.add(tf.keras.layers.Dense(128, activation='relu'))\n",
        "        model.add(tf.keras.layers.Dense(256, activation='relu'))\n",
        "        model.add(tf.keras.layers.Dense(3**n_output_dim, activation='relu'))\n",
        "        model.summary()\n",
        "        model.compile(\n",
        "            optimizer=tf.train.AdamOptimizer(learning_rate=self.learning_rate, ),\n",
        "            loss=tf.keras.losses.MSE\n",
        "        )\n",
        "        \n",
        "        \n",
        "        return model\n",
        "    \n",
        "    def predict(self, states):\n",
        "        return self.model.predict(states)\n",
        "    \n",
        "    def fit(self, states, targets, epochs=1, verbose=0):\n",
        "        self.model.fit(states, targets, epochs=1, verbose=0)"
      ],
      "execution_count": 0,
      "outputs": []
    },
    {
      "metadata": {
        "id": "g-MSGXm06TES",
        "colab_type": "text"
      },
      "cell_type": "markdown",
      "source": [
        "## Create the Model"
      ]
    },
    {
      "metadata": {
        "id": "S6tv0vTh6TEU",
        "colab_type": "code",
        "colab": {}
      },
      "cell_type": "code",
      "source": [
        "class DQNAgent:\n",
        "    def __init__(self, state_dim, action_dim, buffer_size=30000, \n",
        "                 learning_rate=0.001, batch_size=64, gamma=0.9, \n",
        "                 epsilon=1.00, epsilon_decay=0.99999, epsilon_min=0.001,\n",
        "                 name='discreteDQN'):\n",
        "        self.state_dim = state_dim\n",
        "        self.action_dim = action_dim\n",
        "        self.batch_size = batch_size\n",
        "        self.gamma = gamma\n",
        "        self.epsilon = epsilon\n",
        "        self.epsilon_decay = epsilon_decay\n",
        "        self.epsilon_min = epsilon_min\n",
        "        \n",
        "        self.name = name; \n",
        "        self.n_actions = 3**action_dim\n",
        "        \n",
        "        self.model = DQN(state_dim, action_dim, learning_rate)\n",
        "        self.buffer = ReplayBuffer(buffer_size)\n",
        "        self.actions = self.init_actions()\n",
        "        \n",
        "    def init_actions(self):\n",
        "        actions = []\n",
        "        for action_idx in range(self.n_actions):\n",
        "            prev_divisor = self.n_actions\n",
        "            action = []\n",
        "            for _ in range(self.action_dim):\n",
        "                next_divisor = prev_divisor / 3\n",
        "                val = int((action_idx % prev_divisor) / next_divisor) - 1\n",
        "                action.append(val)\n",
        "                prev_divisor = next_divisor\n",
        "            actions.append(action)\n",
        "        return actions\n",
        "    \n",
        "    def get_action_idx(self, state):\n",
        "        if (np.random.rand() < self.epsilon):\n",
        "            return int(random.randrange(self.n_actions))\n",
        "        else:\n",
        "            qvalues = self.model.predict(state);\n",
        "            return np.argmax(qvalues)\n",
        "    \n",
        "    def get_action(self, action_idx):\n",
        "        action = []\n",
        "        #1\n",
        "        output = int(action_idx / 27) - 1\n",
        "        rest = action_idx - 27 * int(action_idx / 27)\n",
        "        action.append(output)\n",
        "        #2\n",
        "        output = int(rest / 9) - 1\n",
        "        rest = rest - 9*int(rest / 9)\n",
        "        action.append(output)\n",
        "        #3\n",
        "        output = int(rest / 3) - 1\n",
        "        rest = rest - 3*int(rest / 3)\n",
        "        action.append(output)\n",
        "        #4\n",
        "        action.append(rest -1)\n",
        "        \n",
        "        return action\n",
        "    \n",
        "    def train_model(self):\n",
        "        states, actions, rewards, next_states = self.buffer.sample(self.batch_size)\n",
        "        qvalues = self.model.predict(next_states)\n",
        "        qvalues = np.float32([np.amax(qvalue) for qvalue in qvalues])\n",
        "        #print(qvalues.shape)\n",
        "        targets = rewards + self.gamma * qvalues\n",
        "        training_targets = self.model.predict(states)\n",
        "        for i in range(self.batch_size):\n",
        "            #print(actions[i])\n",
        "            training_targets[i][actions[i]] = targets[i]\n",
        "        self.model.fit(states, training_targets, epochs=1, verbose=0)\n",
        "        if (self.epsilon > self.epsilon_min):\n",
        "            self.epsilon = self.epsilon * self.epsilon_decay\n",
        "    \n",
        "    def store_transition(self, state, action, reward, next_state):\n",
        "        self.buffer.add(state, action, reward, next_state)\n",
        "    \n",
        "    def save_model(self, n_episodes):\n",
        "        self.model.model.save('/content/gdrive/My Drive/cs4246_project/models/discrete_dqn/trained_models/' + self.name + '_ep' + str(n_episodes) + '.h5')\n",
        "        pass\n",
        "    \n",
        "    def load_model(self, model_name):\n",
        "        self.model = keras.models.load_model(model_name)\n",
        "        pass\n",
        "        \n",
        "        "
      ],
      "execution_count": 0,
      "outputs": []
    },
    {
      "metadata": {
        "id": "gHEuO73V6TEd",
        "colab_type": "text"
      },
      "cell_type": "markdown",
      "source": [
        "## Setup Gym Environment and Initialize Model"
      ]
    },
    {
      "metadata": {
        "id": "JVp6RZN76TEg",
        "colab_type": "code",
        "outputId": "89859e68-f423-4db8-eeda-704f18661929",
        "colab": {
          "base_uri": "https://localhost:8080/",
          "height": 426
        }
      },
      "cell_type": "code",
      "source": [
        "env = gym.make('BipedalWalker-v2')\n",
        "n_state_params = env.observation_space.shape[0]\n",
        "n_actions = env.action_space.shape[0]\n",
        "agent = DQNAgent(n_state_params, n_actions)\n",
        "BATCH_SIZE = 64\n",
        "MAX_EPISODES = 100000\n",
        "MAX_REWARD = 300\n",
        "MAX_STEPS = env._max_episode_steps\n"
      ],
      "execution_count": 15,
      "outputs": [
        {
          "output_type": "stream",
          "text": [
            "/usr/local/lib/python3.6/dist-packages/gym/envs/registration.py:14: PkgResourcesDeprecationWarning: Parameters to load are deprecated.  Call .resolve and .require separately.\n",
            "  result = entry_point.load(False)\n"
          ],
          "name": "stderr"
        },
        {
          "output_type": "stream",
          "text": [
            "\u001b[33mWARN: gym.spaces.Box autodetected dtype as <class 'numpy.float32'>. Please provide explicit dtype.\u001b[0m\n",
            "\u001b[33mWARN: gym.spaces.Box autodetected dtype as <class 'numpy.float32'>. Please provide explicit dtype.\u001b[0m\n",
            "_________________________________________________________________\n",
            "Layer (type)                 Output Shape              Param #   \n",
            "=================================================================\n",
            "dense_5 (Dense)              (None, 32)                800       \n",
            "_________________________________________________________________\n",
            "dense_6 (Dense)              (None, 64)                2112      \n",
            "_________________________________________________________________\n",
            "dense_7 (Dense)              (None, 128)               8320      \n",
            "_________________________________________________________________\n",
            "dense_8 (Dense)              (None, 256)               33024     \n",
            "_________________________________________________________________\n",
            "dense_9 (Dense)              (None, 81)                20817     \n",
            "=================================================================\n",
            "Total params: 65,073\n",
            "Trainable params: 65,073\n",
            "Non-trainable params: 0\n",
            "_________________________________________________________________\n"
          ],
          "name": "stdout"
        }
      ]
    },
    {
      "metadata": {
        "id": "nRZVGKeT6TEu",
        "colab_type": "text"
      },
      "cell_type": "markdown",
      "source": [
        "## Run Model"
      ]
    },
    {
      "metadata": {
        "id": "dU6wltrp6TEv",
        "colab_type": "code",
        "outputId": "466bc9c1-a491-4537-f65e-cfff602bb02e",
        "colab": {
          "base_uri": "https://localhost:8080/",
          "height": 222
        }
      },
      "cell_type": "code",
      "source": [
        "for ep in range(MAX_EPISODES):\n",
        "    state = env.reset()\n",
        "    total_reward = 0\n",
        "    for t in range(MAX_STEPS):\n",
        "        state = np.reshape(state, [1, n_state_params])\n",
        "        action_idx = agent.get_action_idx(state)\n",
        "        action = agent.get_action(action_idx)\n",
        "        state = np.reshape(state, [n_state_params])\n",
        "        next_state, reward, isDone, _ = env.step(action)\n",
        "        \n",
        "        agent.store_transition(state, action_idx, reward, next_state)\n",
        "        state = next_state\n",
        "        \n",
        "        total_reward += reward\n",
        "        if (isDone):\n",
        "            print(\"episode: {}/{}, score: {}, e: {:.2}\".format(ep, MAX_EPISODES, total_reward, agent.epsilon))\n",
        "            break\n",
        "        \n",
        "        if (agent.buffer.len > BATCH_SIZE):\n",
        "            agent.train_model()\n",
        "    \n",
        "    # record rewards dynamically\n",
        "    record_filename = '/content/gdrive/My Drive/cs4246_project/models/discrete_dqn/record.dat'\n",
        "    data = [ep, total_reward]\n",
        "    with open(record_filename, \"ab\") as f:\n",
        "        pickle.dump(data, f)\n",
        "    \n",
        "    if (total_reward > 200):\n",
        "        agent.save_model(ep)\n",
        "        break\n",
        "    \n",
        "    # save model every 100 episodes\n",
        "    if ((ep % 100) == 0):\n",
        "        agent.save_model(ep)\n",
        "        \n",
        "ienv.close()"
      ],
      "execution_count": 0,
      "outputs": [
        {
          "output_type": "stream",
          "text": [
            "episode: 0/100000, score: -108.70201238513984, e: 1.0\n",
            "WARNING:tensorflow:TensorFlow optimizers do not make it possible to access optimizer attributes or optimizer state after instantiation. As a result, we cannot save the optimizer as part of the model save file.You will have to compile your model again after loading it. Prefer using a Keras optimizer instead (see keras.io/optimizers).\n",
            "episode: 1/100000, score: -102.02595369215558, e: 1.0\n",
            "episode: 2/100000, score: -103.61162055210335, e: 1.0\n",
            "episode: 3/100000, score: -116.25561194253712, e: 1.0\n",
            "episode: 4/100000, score: -105.60901721699473, e: 1.0\n",
            "episode: 5/100000, score: -107.35712159579947, e: 0.98\n",
            "episode: 6/100000, score: -107.81645475607117, e: 0.98\n",
            "episode: 7/100000, score: -99.37680321753956, e: 0.98\n",
            "episode: 8/100000, score: -109.29222521604535, e: 0.98\n"
          ],
          "name": "stdout"
        }
      ]
    },
    {
      "metadata": {
        "id": "gb57315V6TE-",
        "colab_type": "code",
        "colab": {}
      },
      "cell_type": "code",
      "source": [
        "import pandas as pd\n",
        "\n",
        "data = []\n",
        "with open(record_filename, 'rb') as fr:\n",
        "    try:\n",
        "        while True:\n",
        "            data.append(pickle.load(fr))\n",
        "    except EOFError:\n",
        "        pass\n",
        "data = pd.DataFrame(np.array(data))\n",
        "\n"
      ],
      "execution_count": 0,
      "outputs": []
    },
    {
      "metadata": {
        "id": "GVShNuG46TFG",
        "colab_type": "code",
        "colab": {}
      },
      "cell_type": "code",
      "source": [
        ""
      ],
      "execution_count": 0,
      "outputs": []
    }
  ]
}